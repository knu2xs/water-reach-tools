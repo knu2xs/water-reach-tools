{
 "cells": [
  {
   "cell_type": "code",
   "execution_count": 1,
   "metadata": {},
   "outputs": [
    {
     "name": "stderr",
     "output_type": "stream",
     "text": [
      "/Users/knu2xs/projects/water-reach-tools/venv/lib/python3.7/site-packages/arcgis/features/_data/geodataset/utils.py:15: FutureWarning: The pandas.datetime class is deprecated and will be removed from pandas in a future version. Import from datetime module instead.\n",
      "  pd.datetime,\n"
     ]
    }
   ],
   "source": [
    "import os\n",
    "import sys\n",
    "\n",
    "from arcgis.gis import GIS\n",
    "from arcgis.geometry import Point, distance\n",
    "from dotenv import load_dotenv\n",
    "from tqdm.notebook import tqdm\n",
    "\n",
    "sys.path.append('../')\n",
    "\n",
    "from water_reach_tools import Reach\n",
    "from water_reach_tools.water_reach_tools import ReachLineFeatureLayer, ReachPointFeatureLayer\n",
    "\n",
    "%load_ext autoreload\n",
    "%autoreload 2"
   ]
  },
  {
   "cell_type": "code",
   "execution_count": 2,
   "metadata": {},
   "outputs": [
    {
     "data": {
      "text/plain": [
       "True"
      ]
     },
     "execution_count": 2,
     "metadata": {},
     "output_type": "execute_result"
    }
   ],
   "source": [
    "load_dotenv('../.env')"
   ]
  },
  {
   "cell_type": "code",
   "execution_count": 3,
   "metadata": {},
   "outputs": [
    {
     "data": {
      "text/html": [
       "GIS @ <a href=\"https://knu2xs.maps.arcgis.com\">https://knu2xs.maps.arcgis.com</a>"
      ],
      "text/plain": [
       "GIS @ https://knu2xs.maps.arcgis.com version:8.2"
      ]
     },
     "execution_count": 3,
     "metadata": {},
     "output_type": "execute_result"
    }
   ],
   "source": [
    "gis = GIS(\n",
    "    url=os.getenv('ARCGIS_URL', 'https://arcgis.com'),\n",
    "    username=os.getenv('ARCGIS_USERNAME', None),\n",
    "    password=os.getenv('ARCGIS_PASSWORD', None)\n",
    ")\n",
    "gis"
   ]
  },
  {
   "cell_type": "code",
   "execution_count": 4,
   "metadata": {},
   "outputs": [],
   "source": [
    "line_lyr_id=os.getenv('REACH_LINE_ID')\n",
    "centroid_lyr_id=os.getenv('REACH_CENTROID_ID')\n",
    "\n",
    "line_lyr = ReachLineFeatureLayer.from_item_id(gis, line_lyr_id)\n",
    "centroid_lyr = ReachPointFeatureLayer.from_item_id(gis, centroid_lyr_id)"
   ]
  },
  {
   "cell_type": "code",
   "execution_count": 25,
   "metadata": {},
   "outputs": [],
   "source": [
    "reach_id = 2156  # Little White Salmon\n",
    "reach_id = 1074  # French Broad\n",
    "self = Reach.get_from_aw(reach_id)"
   ]
  },
  {
   "cell_type": "code",
   "execution_count": 26,
   "metadata": {},
   "outputs": [
    {
     "data": {
      "text/plain": [
       "{'addResults': [],\n",
       " 'updateResults': [{'objectId': 4346,\n",
       "   'uniqueId': 4346,\n",
       "   'globalId': None,\n",
       "   'success': True}],\n",
       " 'deleteResults': []}"
      ]
     },
     "execution_count": 26,
     "metadata": {},
     "output_type": "execute_result"
    }
   ],
   "source": [
    "line_lyr.update_attributes_only(self)"
   ]
  },
  {
   "cell_type": "code",
   "execution_count": 27,
   "metadata": {},
   "outputs": [
    {
     "data": {
      "text/plain": [
       "{'addResults': [],\n",
       " 'updateResults': [{'objectId': 4346,\n",
       "   'uniqueId': 4346,\n",
       "   'globalId': None,\n",
       "   'success': True}],\n",
       " 'deleteResults': []}"
      ]
     },
     "execution_count": 27,
     "metadata": {},
     "output_type": "execute_result"
    }
   ],
   "source": [
    "line_lyr.update_stage(self)"
   ]
  },
  {
   "cell_type": "code",
   "execution_count": 28,
   "metadata": {},
   "outputs": [
    {
     "data": {
      "text/plain": [
       "<FeatureSet> 1 features"
      ]
     },
     "execution_count": 28,
     "metadata": {},
     "output_type": "execute_result"
    }
   ],
   "source": [
    "fs = line_lyr.query_by_reach_id(reach_id)\n",
    "fs"
   ]
  },
  {
   "cell_type": "code",
   "execution_count": 29,
   "metadata": {},
   "outputs": [
    {
     "data": {
      "text/html": [
       "<div>\n",
       "<style scoped>\n",
       "    .dataframe tbody tr th:only-of-type {\n",
       "        vertical-align: middle;\n",
       "    }\n",
       "\n",
       "    .dataframe tbody tr th {\n",
       "        vertical-align: top;\n",
       "    }\n",
       "\n",
       "    .dataframe thead th {\n",
       "        text-align: right;\n",
       "    }\n",
       "</style>\n",
       "<table border=\"1\" class=\"dataframe\">\n",
       "  <thead>\n",
       "    <tr style=\"text-align: right;\">\n",
       "      <th></th>\n",
       "      <th>OBJECTID</th>\n",
       "      <th>reach_name</th>\n",
       "      <th>river_name</th>\n",
       "      <th>river_name_alternate</th>\n",
       "      <th>error</th>\n",
       "      <th>notes</th>\n",
       "      <th>difficulty</th>\n",
       "      <th>difficulty_minimum</th>\n",
       "      <th>difficulty_maximum</th>\n",
       "      <th>difficulty_outlier</th>\n",
       "      <th>...</th>\n",
       "      <th>difficulty_filter</th>\n",
       "      <th>gauge_stage</th>\n",
       "      <th>tracing_method</th>\n",
       "      <th>gauge_update_datetime</th>\n",
       "      <th>putin_x</th>\n",
       "      <th>putin_y</th>\n",
       "      <th>takeout_x</th>\n",
       "      <th>takeout_y</th>\n",
       "      <th>gauge_units</th>\n",
       "      <th>SHAPE</th>\n",
       "    </tr>\n",
       "  </thead>\n",
       "  <tbody>\n",
       "    <tr>\n",
       "      <th>0</th>\n",
       "      <td>4346</td>\n",
       "      <td>9. Barnard to Hot Springs</td>\n",
       "      <td>French Broad</td>\n",
       "      <td></td>\n",
       "      <td>None</td>\n",
       "      <td></td>\n",
       "      <td>III-IV</td>\n",
       "      <td>III</td>\n",
       "      <td>IV</td>\n",
       "      <td>None</td>\n",
       "      <td>...</td>\n",
       "      <td>4.1</td>\n",
       "      <td>medium</td>\n",
       "      <td>None</td>\n",
       "      <td>NaT</td>\n",
       "      <td>-82.75516</td>\n",
       "      <td>35.838612</td>\n",
       "      <td>-82.822201</td>\n",
       "      <td>35.892896</td>\n",
       "      <td>cfs</td>\n",
       "      <td>{\"paths\": [[[-82.7550725153836, 35.83809601082...</td>\n",
       "    </tr>\n",
       "  </tbody>\n",
       "</table>\n",
       "<p>1 rows × 52 columns</p>\n",
       "</div>"
      ],
      "text/plain": [
       "   OBJECTID                 reach_name    river_name river_name_alternate  \\\n",
       "0      4346  9. Barnard to Hot Springs  French Broad                        \n",
       "\n",
       "  error notes difficulty difficulty_minimum difficulty_maximum  \\\n",
       "0  None           III-IV                III                 IV   \n",
       "\n",
       "  difficulty_outlier  ... difficulty_filter gauge_stage tracing_method  \\\n",
       "0               None  ...               4.1      medium           None   \n",
       "\n",
       "  gauge_update_datetime   putin_x    putin_y  takeout_x  takeout_y  \\\n",
       "0                   NaT -82.75516  35.838612 -82.822201  35.892896   \n",
       "\n",
       "  gauge_units                                              SHAPE  \n",
       "0         cfs  {\"paths\": [[[-82.7550725153836, 35.83809601082...  \n",
       "\n",
       "[1 rows x 52 columns]"
      ]
     },
     "execution_count": 29,
     "metadata": {},
     "output_type": "execute_result"
    }
   ],
   "source": [
    "fs.sdf"
   ]
  },
  {
   "cell_type": "code",
   "execution_count": 5,
   "metadata": {},
   "outputs": [],
   "source": [
    "reach_id_lst = line_lyr.get_unique_values('reach_id')"
   ]
  },
  {
   "cell_type": "code",
   "execution_count": 6,
   "metadata": {},
   "outputs": [
    {
     "data": {
      "text/plain": [
       "'1074'"
      ]
     },
     "execution_count": 6,
     "metadata": {},
     "output_type": "execute_result"
    }
   ],
   "source": [
    "reach_id_lst[455]"
   ]
  },
  {
   "cell_type": "code",
   "execution_count": null,
   "metadata": {},
   "outputs": [
    {
     "data": {
      "application/vnd.jupyter.widget-view+json": {
       "model_id": "ef891f43b00f4cfcb366c4bee8be8bb1",
       "version_major": 2,
       "version_minor": 0
      },
      "text/plain": [
       "HBox(children=(FloatProgress(value=0.0, max=5505.0), HTML(value='')))"
      ]
     },
     "metadata": {},
     "output_type": "display_data"
    }
   ],
   "source": [
    "reach_id_lst = line_lyr.get_unique_values('reach_id')\n",
    "for rid in tqdm(reach_id_lst):\n",
    "    rch = Reach.get_from_aw(rid)\n",
    "    line_lyr.update_attributes_only(rch)\n",
    "    centroid_lyr.update_attributes_only(rch)"
   ]
  },
  {
   "cell_type": "code",
   "execution_count": null,
   "metadata": {},
   "outputs": [],
   "source": []
  }
 ],
 "metadata": {
  "kernelspec": {
   "display_name": "Python 3 (ipykernel)",
   "language": "python",
   "name": "python3"
  },
  "language_info": {
   "codemirror_mode": {
    "name": "ipython",
    "version": 3
   },
   "file_extension": ".py",
   "mimetype": "text/x-python",
   "name": "python",
   "nbconvert_exporter": "python",
   "pygments_lexer": "ipython3",
   "version": "3.7.11"
  }
 },
 "nbformat": 4,
 "nbformat_minor": 4
}
