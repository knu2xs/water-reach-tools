{
 "cells": [
  {
   "cell_type": "code",
   "execution_count": null,
   "metadata": {},
   "outputs": [],
   "source": [
    "from datetime import datetime\n",
    "import logging\n",
    "import math\n",
    "import os\n",
    "from pathlib import Path\n",
    "from zipfile import ZipFile\n",
    "\n",
    "import arcpy\n",
    "from arcgis.gis import GIS\n",
    "from arcgis.features import FeatureSet\n",
    "from dotenv import find_dotenv, load_dotenv\n",
    "import requests\n",
    "from tqdm import tqdm\n",
    "\n",
    "# url to find the archive for the national gdb\n",
    "url_zip = 'https://prd-tnm.s3.amazonaws.com/StagedProducts/Hydrography/NHD/National/HighResolution/GDB/NHD_H_National_GDB.zip'\n",
    "\n",
    "# load the dotenv file\n",
    "load_dotenv(find_dotenv())\n",
    "\n",
    "# dir_root = Path(os.path.abspath('./')).parent\n",
    "dir_root = Path(r'Z:\\projects\\water-reach-tools')\n",
    "dir_data = dir_root/'data'\n",
    "dir_raw_data = dir_data/'raw'\n",
    "dir_int_data = dir_data/'interim'\n",
    "gdb_int_data = dir_int_data/'interim.gdb'\n",
    "\n",
    "# paths to resources\n",
    "name_zip = url_zip.split('/')[-1:][0]\n",
    "zip_file = dir_raw_data/name_zip\n",
    "nhd_gdb = dir_int_data/f'{name_zip.split(\".\")[0]}.gdb'\n",
    "nhd_flowline = nhd_gdb/'NHDFlowline'\n",
    "\n",
    "# configure logging\n",
    "log_lvl = logging.DEBUG\n",
    "log_fmt = logging.Formatter('%(asctime)s - %(name)s - %(levelname)s - %(message)s', datefmt='‘%Y-%m-%d %H:%M:%S')\n",
    "\n",
    "logger = logging.getLogger('nhd_download')\n",
    "logger.setLevel(log_lvl)\n",
    "\n",
    "log_ch = logging.StreamHandler()\n",
    "log_ch.setFormatter(log_fmt)\n",
    "log_ch.setLevel(logging.DEBUG)\n",
    "logger.addHandler(log_ch)\n",
    "\n",
    "log_fl = logging.FileHandler(dir_int_data/'nhd_download.log')\n",
    "log_fl.setFormatter(log_fmt)\n",
    "log_fl.setLevel(logging.DEBUG)\n",
    "logger.addHandler(log_fl)\n",
    "\n",
    "\n",
    "def _download_file(url, output_filename, chunk_size=10240):  # 10 mb default\n",
    "    \"\"\"\n",
    "    Helper function to download large files and using tqdm, provide visual progress.\n",
    "    \"\"\"\n",
    "    \n",
    "    # get the file size and number of iterations it is going to take to download the archive\n",
    "    file_size = int(requests.head(url).headers['Content-Length'])\n",
    "    iteration_count = math.ceil(file_size/chunk_size)\n",
    "    \n",
    "    # create a request get instance to use for streaming\n",
    "    with requests.get(url, stream=True) as get:\n",
    "        \n",
    "        # throw any errors\n",
    "        get.raise_for_status()\n",
    "        \n",
    "        # create a place to write the file\n",
    "        with open(output_filename, 'wb') as file:\n",
    "            \n",
    "            # iteratively download the chunks to get the whole file\n",
    "            for chunk in tqdm(get.iter_content(chunk_size=chunk_size),leave=False, total=iteration_count): \n",
    "                \n",
    "                # filter out keep-alive new chunks and write the good stuff to the output file\n",
    "                if chunk:\n",
    "                    file.write(chunk)\n",
    "\n",
    "    return output_filename"
   ]
  },
  {
   "cell_type": "code",
   "execution_count": 2,
   "metadata": {},
   "outputs": [
    {
     "data": {
      "text/html": [
       "GIS @ <a href=\"https://www.arcgis.com\">https://www.arcgis.com</a>"
      ],
      "text/plain": [
       "GIS @ https://www.arcgis.com version:7.4"
      ]
     },
     "execution_count": 2,
     "metadata": {},
     "output_type": "execute_result"
    }
   ],
   "source": [
    "gis = GIS(os.getenv('GIS_URL'), username=os.getenv('GIS_USERNAME'), password=os.getenv('GIS_PASSWORD'))\n",
    "gis"
   ]
  },
  {
   "cell_type": "code",
   "execution_count": null,
   "metadata": {},
   "outputs": [],
   "source": [
    "# download the file and save it to the raw directory\n",
    "logger.info(f'Starting to download {name_zip}')\n",
    "_download_file(url, output_file)\n",
    "logger.info(f'Saved to {output_file}.')"
   ]
  },
  {
   "cell_type": "code",
   "execution_count": 8,
   "metadata": {},
   "outputs": [],
   "source": [
    "# get the path to the downloaded zip file\n",
    "name_zip = url_zip.split('/')[-1:][0]\n",
    "zip_file = dir_raw_data/name_zip\n",
    "\n",
    "# extract the contents to the interim data directory\n",
    "logger.debug(f'Starting to unzip {name_zip}.')\n",
    "with ZipFile(zip_file) as zip_obj:\n",
    "    zip_obj.extractall(dir_int_data)\n",
    "logger.info(f'Completed unzipping.')"
   ]
  },
  {
   "cell_type": "code",
   "execution_count": null,
   "metadata": {},
   "outputs": [],
   "source": [
    "fs_arcpy = arcpy.FeatureSet()\n",
    "fs_arcpy.load(str(nhd_flowline))\n",
    "flowline_fs = FeatureSet(fs_arcpy.JSON)"
   ]
  },
  {
   "cell_type": "code",
   "execution_count": null,
   "metadata": {},
   "outputs": [],
   "source": []
  }
 ],
 "metadata": {
  "kernelspec": {
   "display_name": "ArcGISPro",
   "language": "Python",
   "name": "python3"
  },
  "language_info": {
   "file_extension": ".py",
   "name": "python",
   "version": "3"
  }
 },
 "nbformat": 4,
 "nbformat_minor": 4
}
