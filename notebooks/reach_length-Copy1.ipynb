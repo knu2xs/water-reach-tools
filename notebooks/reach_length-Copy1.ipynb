{
 "cells": [
  {
   "cell_type": "code",
   "execution_count": 1,
   "metadata": {},
   "outputs": [],
   "source": [
    "import os\n",
    "import sys\n",
    "\n",
    "from arcgis.gis import GIS\n",
    "from arcgis.geometry import Point, distance\n",
    "from dotenv import load_dotenv\n",
    "from tqdm.notebook import tqdm\n",
    "\n",
    "sys.path.append('../')\n",
    "\n",
    "from water_reach_tools import Reach\n",
    "from water_reach_tools.water_reach_tools import ReachLineFeatureLayer, ReachPointFeatureLayer\n",
    "\n",
    "%load_ext autoreload\n",
    "%autoreload 2"
   ]
  },
  {
   "cell_type": "code",
   "execution_count": 2,
   "metadata": {},
   "outputs": [
    {
     "data": {
      "text/plain": [
       "True"
      ]
     },
     "execution_count": 2,
     "metadata": {},
     "output_type": "execute_result"
    }
   ],
   "source": [
    "load_dotenv('../.env')"
   ]
  },
  {
   "cell_type": "code",
   "execution_count": 3,
   "metadata": {},
   "outputs": [
    {
     "data": {
      "text/html": [
       "GIS @ <a href=\"https://knu2xs.maps.arcgis.com\">https://knu2xs.maps.arcgis.com</a>"
      ],
      "text/plain": [
       "GIS @ https://knu2xs.maps.arcgis.com version:8.2"
      ]
     },
     "execution_count": 3,
     "metadata": {},
     "output_type": "execute_result"
    }
   ],
   "source": [
    "gis = GIS(\n",
    "    url=os.getenv('ARCGIS_URL', 'https://arcgis.com'),\n",
    "    username=os.getenv('ARCGIS_USERNAME', None),\n",
    "    password=os.getenv('ARCGIS_PASSWORD', None)\n",
    ")\n",
    "gis"
   ]
  },
  {
   "cell_type": "code",
   "execution_count": 4,
   "metadata": {},
   "outputs": [],
   "source": [
    "line_lyr_id=os.getenv('REACH_LINE_ID')\n",
    "centroid_lyr_id=os.getenv('REACH_CENTROID_ID')\n",
    "\n",
    "line_lyr = ReachLineFeatureLayer.from_item_id(gis, line_lyr_id)\n",
    "centroid_lyr = ReachPointFeatureLayer.from_item_id(gis, centroid_lyr_id)"
   ]
  },
  {
   "cell_type": "code",
   "execution_count": 5,
   "metadata": {},
   "outputs": [
    {
     "data": {
      "text/plain": [
       "517"
      ]
     },
     "execution_count": 5,
     "metadata": {},
     "output_type": "execute_result"
    }
   ],
   "source": [
    "reach_id_lst = line_lyr.get_unique_values('reach_id', 'gauge_id IS NOT NULL')\n",
    "len(reach_id_lst)"
   ]
  },
  {
   "cell_type": "code",
   "execution_count": 6,
   "metadata": {},
   "outputs": [],
   "source": [
    "def update_reach_stage(rid):\n",
    "    rch = Reach.get_from_aw(rid)\n",
    "    line_lyr.update_attributes_only(rch)\n",
    "    centroid_lyr.update_attributes_only(rch)"
   ]
  },
  {
   "cell_type": "code",
   "execution_count": 16,
   "metadata": {},
   "outputs": [
    {
     "name": "stdout",
     "output_type": "stream",
     "text": [
      "pass in features as list of Features, dicts or PropertyMap\n",
      "Parameters not valid for edit_features\n",
      "pass in features as list of Features, dicts or PropertyMap\n",
      "Parameters not valid for edit_features\n"
     ]
    }
   ],
   "source": [
    "update_reach_stage(reach_id_lst[0])"
   ]
  },
  {
   "cell_type": "code",
   "execution_count": 7,
   "metadata": {},
   "outputs": [],
   "source": [
    "from dask.distributed import Client\n",
    "import dask.bag\n",
    "import dask.config"
   ]
  },
  {
   "cell_type": "code",
   "execution_count": 8,
   "metadata": {},
   "outputs": [
    {
     "data": {
      "text/plain": [
       "<dask.config.set at 0x120150710>"
      ]
     },
     "execution_count": 8,
     "metadata": {},
     "output_type": "execute_result"
    }
   ],
   "source": [
    "dask.config.set(scheduler='threads')"
   ]
  },
  {
   "cell_type": "code",
   "execution_count": 9,
   "metadata": {},
   "outputs": [
    {
     "data": {
      "text/html": [
       "<table style=\"border: 2px solid white;\">\n",
       "<tr>\n",
       "<td style=\"vertical-align: top; border: 0px solid white\">\n",
       "<h3 style=\"text-align: left;\">Client</h3>\n",
       "<ul style=\"text-align: left; list-style: none; margin: 0; padding: 0;\">\n",
       "  <li><b>Scheduler: </b>tcp://127.0.0.1:64381</li>\n",
       "  <li><b>Dashboard: </b><a href='http://127.0.0.1:8787/status' target='_blank'>http://127.0.0.1:8787/status</a></li>\n",
       "</ul>\n",
       "</td>\n",
       "<td style=\"vertical-align: top; border: 0px solid white\">\n",
       "<h3 style=\"text-align: left;\">Cluster</h3>\n",
       "<ul style=\"text-align: left; list-style:none; margin: 0; padding: 0;\">\n",
       "  <li><b>Workers: </b>4</li>\n",
       "  <li><b>Cores: </b>8</li>\n",
       "  <li><b>Memory: </b>17.18 GB</li>\n",
       "</ul>\n",
       "</td>\n",
       "</tr>\n",
       "</table>"
      ],
      "text/plain": [
       "<Client: 'tcp://127.0.0.1:64381' processes=4 threads=8, memory=17.18 GB>"
      ]
     },
     "execution_count": 9,
     "metadata": {},
     "output_type": "execute_result"
    }
   ],
   "source": [
    "client = Client()\n",
    "client"
   ]
  },
  {
   "cell_type": "code",
   "execution_count": 10,
   "metadata": {},
   "outputs": [
    {
     "data": {
      "text/plain": [
       "dask.bag<update_reach_stage, npartitions=104>"
      ]
     },
     "execution_count": 10,
     "metadata": {},
     "output_type": "execute_result"
    }
   ],
   "source": [
    "db = dask.bag.from_sequence(reach_id_lst).map(update_reach_stage)\n",
    "db"
   ]
  },
  {
   "cell_type": "code",
   "execution_count": 19,
   "metadata": {},
   "outputs": [
    {
     "data": {
      "text/plain": [
       "dask.bag<update_reach_stage, npartitions=104>"
      ]
     },
     "execution_count": 19,
     "metadata": {},
     "output_type": "execute_result"
    }
   ],
   "source": [
    "db.map(update_reach_stage)"
   ]
  },
  {
   "cell_type": "code",
   "execution_count": 6,
   "metadata": {},
   "outputs": [
    {
     "data": {
      "text/plain": [
       "<FeatureSet> 1 features"
      ]
     },
     "execution_count": 6,
     "metadata": {},
     "output_type": "execute_result"
    }
   ],
   "source": [
    "fs = line_lyr.query_by_reach_id(reach_id_lst[50])\n",
    "fs"
   ]
  },
  {
   "cell_type": "code",
   "execution_count": 7,
   "metadata": {},
   "outputs": [
    {
     "data": {
      "text/html": [
       "<div>\n",
       "<style scoped>\n",
       "    .dataframe tbody tr th:only-of-type {\n",
       "        vertical-align: middle;\n",
       "    }\n",
       "\n",
       "    .dataframe tbody tr th {\n",
       "        vertical-align: top;\n",
       "    }\n",
       "\n",
       "    .dataframe thead th {\n",
       "        text-align: right;\n",
       "    }\n",
       "</style>\n",
       "<table border=\"1\" class=\"dataframe\">\n",
       "  <thead>\n",
       "    <tr style=\"text-align: right;\">\n",
       "      <th></th>\n",
       "      <th>OBJECTID</th>\n",
       "      <th>reach_name</th>\n",
       "      <th>river_name</th>\n",
       "      <th>river_name_alternate</th>\n",
       "      <th>error</th>\n",
       "      <th>notes</th>\n",
       "      <th>difficulty</th>\n",
       "      <th>difficulty_minimum</th>\n",
       "      <th>difficulty_maximum</th>\n",
       "      <th>difficulty_outlier</th>\n",
       "      <th>...</th>\n",
       "      <th>difficulty_filter</th>\n",
       "      <th>gauge_stage</th>\n",
       "      <th>tracing_method</th>\n",
       "      <th>gauge_update_datetime</th>\n",
       "      <th>putin_x</th>\n",
       "      <th>putin_y</th>\n",
       "      <th>takeout_x</th>\n",
       "      <th>takeout_y</th>\n",
       "      <th>gauge_units</th>\n",
       "      <th>SHAPE</th>\n",
       "    </tr>\n",
       "  </thead>\n",
       "  <tbody>\n",
       "    <tr>\n",
       "      <th>0</th>\n",
       "      <td>8946</td>\n",
       "      <td>Section 3 - Hwy. 392 to Haddens Ferry</td>\n",
       "      <td>Toro Bayou</td>\n",
       "      <td></td>\n",
       "      <td>None</td>\n",
       "      <td></td>\n",
       "      <td>II+</td>\n",
       "      <td>None</td>\n",
       "      <td>II+</td>\n",
       "      <td>None</td>\n",
       "      <td>...</td>\n",
       "      <td>2.2</td>\n",
       "      <td>too low</td>\n",
       "      <td>None</td>\n",
       "      <td>NaT</td>\n",
       "      <td>-93.5444</td>\n",
       "      <td>31.2044</td>\n",
       "      <td>-93.535</td>\n",
       "      <td>31.1859</td>\n",
       "      <td>ft</td>\n",
       "      <td>{\"paths\": [[[-93.5448418792508, 31.20422310255...</td>\n",
       "    </tr>\n",
       "  </tbody>\n",
       "</table>\n",
       "<p>1 rows × 52 columns</p>\n",
       "</div>"
      ],
      "text/plain": [
       "   OBJECTID                             reach_name  river_name  \\\n",
       "0      8946  Section 3 - Hwy. 392 to Haddens Ferry  Toro Bayou   \n",
       "\n",
       "  river_name_alternate error notes difficulty difficulty_minimum  \\\n",
       "0                       None              II+               None   \n",
       "\n",
       "  difficulty_maximum difficulty_outlier  ... difficulty_filter gauge_stage  \\\n",
       "0                II+               None  ...               2.2     too low   \n",
       "\n",
       "  tracing_method gauge_update_datetime  putin_x  putin_y takeout_x takeout_y  \\\n",
       "0           None                   NaT -93.5444  31.2044   -93.535   31.1859   \n",
       "\n",
       "  gauge_units                                              SHAPE  \n",
       "0          ft  {\"paths\": [[[-93.5448418792508, 31.20422310255...  \n",
       "\n",
       "[1 rows x 52 columns]"
      ]
     },
     "execution_count": 7,
     "metadata": {},
     "output_type": "execute_result"
    }
   ],
   "source": [
    "df = fs.sdf\n",
    "df"
   ]
  },
  {
   "cell_type": "code",
   "execution_count": 1,
   "metadata": {},
   "outputs": [
    {
     "name": "stderr",
     "output_type": "stream",
     "text": [
      "/Users/knu2xs/projects/water-reach-tools/venv/lib/python3.7/site-packages/arcgis/features/_data/geodataset/utils.py:15: FutureWarning: The pandas.datetime class is deprecated and will be removed from pandas in a future version. Import from datetime module instead.\n",
      "  pd.datetime,\n"
     ]
    }
   ],
   "source": [
    "from arcgis.mapping import WebMap"
   ]
  },
  {
   "cell_type": "code",
   "execution_count": 2,
   "metadata": {},
   "outputs": [
    {
     "data": {
      "application/vnd.jupyter.widget-view+json": {
       "model_id": "3d76195e54ce480cbf47b67e599bf125",
       "version_major": 2,
       "version_minor": 0
      },
      "text/plain": [
       "MapView(hide_mode_switch=True, layout=Layout(height='400px', width='100%'))"
      ]
     },
     "metadata": {},
     "output_type": "display_data"
    },
    {
     "data": {
      "text/html": [
       "<div class=\"map-static-img-preview-5b2390cf-4b76-4d25-9373-3deeb5efd6b3\"><img src=\"\"></img></div>"
      ],
      "text/plain": [
       "<IPython.core.display.HTML object>"
      ]
     },
     "metadata": {},
     "output_type": "display_data"
    }
   ],
   "source": [
    "WebMap()"
   ]
  },
  {
   "cell_type": "code",
   "execution_count": null,
   "metadata": {},
   "outputs": [],
   "source": []
  }
 ],
 "metadata": {
  "kernelspec": {
   "display_name": "Python 3",
   "language": "python",
   "name": "python3"
  },
  "language_info": {
   "codemirror_mode": {
    "name": "ipython",
    "version": 3
   },
   "file_extension": ".py",
   "mimetype": "text/x-python",
   "name": "python",
   "nbconvert_exporter": "python",
   "pygments_lexer": "ipython3",
   "version": "3.7.6"
  }
 },
 "nbformat": 4,
 "nbformat_minor": 4
}
